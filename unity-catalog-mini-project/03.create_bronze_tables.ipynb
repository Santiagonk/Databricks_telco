{
 "cells": [
  {
   "cell_type": "markdown",
   "metadata": {
    "application/vnd.databricks.v1+cell": {
     "cellMetadata": {},
     "inputWidgets": {},
     "nuid": "84a5ca23-1797-4dbf-bcea-21ea9623a058",
     "showTitle": false,
     "tableResultSettingsMap": {},
     "title": ""
    }
   },
   "source": [
    "#### Crear Tablas en el Schema Bronze\n",
    "1. clientes.csv \n",
    "2. detalles.csv"
   ]
  },
  {
   "cell_type": "code",
   "execution_count": 0,
   "metadata": {
    "application/vnd.databricks.v1+cell": {
     "cellMetadata": {
      "byteLimit": 2048000,
      "rowLimit": 10000
     },
     "inputWidgets": {},
     "nuid": "3fff8bd3-b2f0-44b0-89b6-c4e3daf9a875",
     "showTitle": false,
     "tableResultSettingsMap": {},
     "title": ""
    }
   },
   "outputs": [],
   "source": [
    "CREATE TABLE IF NOT EXISTS telco_dev.bronze.clientes (\n",
    "  clienteId INT,\n",
    "  nombre STRING,\n",
    "  paterno STRING,\n",
    "  materno STRING,\n",
    "  documentoIdentidad STRING,\n",
    "  telefono STRING,\n",
    "  email STRING,\n",
    "  direccion STRING\n",
    ")\n",
    "USING CSV\n",
    "OPTIONS (path \"abfss://bronze@sadatabricksextsa.dfs.core.windows.net/clientes\", delimiter \";\", header true)"
   ]
  },
  {
   "cell_type": "code",
   "execution_count": 0,
   "metadata": {
    "application/vnd.databricks.v1+cell": {
     "cellMetadata": {
      "byteLimit": 2048000,
      "rowLimit": 10000
     },
     "inputWidgets": {},
     "nuid": "c8d22d1b-ed2c-4f91-bb5e-02898f36250e",
     "showTitle": false,
     "tableResultSettingsMap": {},
     "title": ""
    }
   },
   "outputs": [],
   "source": [
    "SELECT * FROM telco_dev.bronze.detalles;"
   ]
  }
 ],
 "metadata": {
  "application/vnd.databricks.v1+notebook": {
   "computePreferences": null,
   "dashboards": [],
   "environmentMetadata": {
    "base_environment": "",
    "environment_version": "2"
   },
   "inputWidgetPreferences": null,
   "language": "sql",
   "notebookMetadata": {},
   "notebookName": "03.create_bronze_tables",
   "widgets": {}
  },
  "language_info": {
   "name": "sql"
  }
 },
 "nbformat": 4,
 "nbformat_minor": 0
}
