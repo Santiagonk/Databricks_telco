{
 "cells": [
  {
   "cell_type": "markdown",
   "metadata": {
    "application/vnd.databricks.v1+cell": {
     "cellMetadata": {},
     "inputWidgets": {},
     "nuid": "594c1a7e-afc6-460f-869e-7fee386cca5f",
     "showTitle": false,
     "tableResultSettingsMap": {},
     "title": ""
    }
   },
   "source": [
    "#### Crear Managed Table en el Schema gold\n",
    "* usar JOIN en las tablas \"clientes\" y \"detalles\" para obtener los \"ingresos por clientes\""
   ]
  },
  {
   "cell_type": "code",
   "execution_count": 0,
   "metadata": {
    "application/vnd.databricks.v1+cell": {
     "cellMetadata": {},
     "inputWidgets": {},
     "nuid": "8979d8d2-8724-437c-a2b2-1c2d673502a4",
     "showTitle": false,
     "tableResultSettingsMap": {},
     "title": ""
    }
   },
   "outputs": [],
   "source": [
    "DROP TABLE IF EXISTS telco_dev.gold.ingreso_por_cliente;\n",
    "\n",
    "CREATE TABLE telco_dev.gold.ingreso_por_cliente\n",
    "AS\n",
    " SELECT C.nombre_completo, SUM(D.precio_mensual) AS ingreso\n",
    " FROM telco_dev.silver.clientes C\n",
    " INNER JOIN telco_dev.silver.detalles D\n",
    " ON C.cliente_id = D.cliente_id\n",
    " WHERE D.estado = true\n",
    " GROUP BY C.nombre_completo\n",
    " ORDER BY ingreso DESC"
   ]
  },
  {
   "cell_type": "code",
   "execution_count": 0,
   "metadata": {
    "application/vnd.databricks.v1+cell": {
     "cellMetadata": {},
     "inputWidgets": {},
     "nuid": "319947ad-be3e-431d-8e73-66e3064e100d",
     "showTitle": false,
     "tableResultSettingsMap": {},
     "title": ""
    }
   },
   "outputs": [],
   "source": [
    "SELECT * FROM telco_dev.gold.ingreso_por_cliente;"
   ]
  }
 ],
 "metadata": {
  "application/vnd.databricks.v1+notebook": {
   "computePreferences": null,
   "dashboards": [],
   "environmentMetadata": {
    "base_environment": "",
    "environment_version": "2"
   },
   "inputWidgetPreferences": null,
   "language": "sql",
   "notebookMetadata": {},
   "notebookName": "05.create_gold_tables",
   "widgets": {}
  },
  "language_info": {
   "name": "sql"
  }
 },
 "nbformat": 4,
 "nbformat_minor": 0
}
