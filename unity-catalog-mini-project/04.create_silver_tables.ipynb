{
 "cells": [
  {
   "cell_type": "markdown",
   "metadata": {
    "application/vnd.databricks.v1+cell": {
     "cellMetadata": {},
     "inputWidgets": {},
     "nuid": "d3c05596-9ce3-40e8-9d6d-03fbe138c46a",
     "showTitle": false,
     "tableResultSettingsMap": {},
     "title": ""
    }
   },
   "source": [
    "### Crear Managed Table en el Schema Silver\n",
    "1. Clientes\n",
    "2. Detalles"
   ]
  },
  {
   "cell_type": "code",
   "execution_count": 0,
   "metadata": {
    "application/vnd.databricks.v1+cell": {
     "cellMetadata": {
      "byteLimit": 2048000,
      "rowLimit": 10000
     },
     "inputWidgets": {},
     "nuid": "452fc4cc-7f21-489c-b33f-119c122a6979",
     "showTitle": false,
     "tableResultSettingsMap": {},
     "title": ""
    }
   },
   "outputs": [],
   "source": [
    "CREATE TABLE IF NOT EXISTS telco_dev.silver.clientes\n",
    "AS \n",
    "  SELECT \n",
    "    clienteId AS cliente_id,\n",
    "    CONCAT(nombre, ' ', paterno, ' ', materno) AS nombre_completo,\n",
    "    documentoIdentidad AS documento_identidad,\n",
    "    telefono, \n",
    "    email,\n",
    "    direccion, \n",
    "    current_timestamp() AS ingestion_date\n",
    "    FROM telco_dev.bronze.clientes;"
   ]
  },
  {
   "cell_type": "code",
   "execution_count": 0,
   "metadata": {
    "application/vnd.databricks.v1+cell": {
     "cellMetadata": {
      "byteLimit": 2048000,
      "rowLimit": 10000
     },
     "inputWidgets": {},
     "nuid": "54ea8693-3a70-40fb-a569-658977319257",
     "showTitle": false,
     "tableResultSettingsMap": {},
     "title": ""
    }
   },
   "outputs": [],
   "source": [
    "CREATE TABLE IF NOT EXISTS telco_dev.silver.detalles\n",
    "AS \n",
    "  SELECT \n",
    "    detalleId  AS detalle_id,\n",
    "    clienteId AS cliente_id,\n",
    "    servicio,\n",
    "    plan, \n",
    "    precioMensual AS precio_mensual,\n",
    "    estado, \n",
    "    fechaInicio AS fecha_inicio,\n",
    "    fechaFin AS fecha_fin,\n",
    "    current_timestamp() AS ingestion_date\n",
    "    FROM telco_dev.bronze.detalles;"
   ]
  }
 ],
 "metadata": {
  "application/vnd.databricks.v1+notebook": {
   "computePreferences": null,
   "dashboards": [],
   "environmentMetadata": {
    "base_environment": "",
    "environment_version": "2"
   },
   "inputWidgetPreferences": null,
   "language": "sql",
   "notebookMetadata": {},
   "notebookName": "04.create_silver_tables",
   "widgets": {}
  },
  "language_info": {
   "name": "sql"
  }
 },
 "nbformat": 4,
 "nbformat_minor": 0
}
